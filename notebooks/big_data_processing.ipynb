{
 "cells": [
  {
   "cell_type": "markdown",
   "metadata": {},
   "source": [
    "# Big data processing"
   ]
  },
  {
   "cell_type": "markdown",
   "metadata": {},
   "source": [
    "Here we have a look at how one can work with data that do not fit in to the memory. We are going to use [`xarray`](http://xarray.pydata.org/en/stable/time-series.html) with [`dask`](https://dask.pydata.org/en/latest/) support for this."
   ]
  },
  {
   "cell_type": "markdown",
   "metadata": {},
   "source": [
    "Imports:"
   ]
  },
  {
   "cell_type": "code",
   "execution_count": 1,
   "metadata": {},
   "outputs": [
    {
     "name": "stderr",
     "output_type": "stream",
     "text": [
      "/mnt/lustre01/work/ab0995/a270088/miniconda2/envs/py35/lib/python3.5/site-packages/cmocean/tools.py:76: MatplotlibDeprecationWarning: The is_string_like function was deprecated in version 2.1.\n",
      "  if not mpl.cbook.is_string_like(rgbin[0]):\n"
     ]
    }
   ],
   "source": [
    "import sys\n",
    "sys.path.append(\"../\")\n",
    "\n",
    "from netCDF4 import Dataset, MFDataset\n",
    "import pyfesom as pf\n",
    "import numpy as np\n",
    "from mpl_toolkits.basemap import Basemap\n",
    "import matplotlib.pylab as plt\n",
    "import numpy as np\n",
    "%matplotlib inline\n",
    "from matplotlib import cm\n",
    "\n",
    "import xarray as xr\n",
    "import pandas as pd"
   ]
  },
  {
   "cell_type": "markdown",
   "metadata": {},
   "source": [
    "Loading mesh. This mesh is rotated, so we use default values. If your mesh is rotated don't forget to use `abg` parameter."
   ]
  },
  {
   "cell_type": "code",
   "execution_count": 2,
   "metadata": {},
   "outputs": [
    {
     "name": "stdout",
     "output_type": "stream",
     "text": [
      "The usejoblib == True)\n",
      "The joblib file for python 3 exists.\n",
      "The mesh will be loaded from /mnt/lustre01/work/ab0995/a270088/data/core_mesh/joblib_mesh\n"
     ]
    }
   ],
   "source": [
    "meshpath  ='/mnt/lustre01/work/ab0995/a270088/data/core_mesh/'\n",
    "mesh = pf.load_mesh(meshpath, usepickle=False, usejoblib=True)"
   ]
  },
  {
   "cell_type": "markdown",
   "metadata": {},
   "source": [
    "Open multiple files at once. Please have a look at [this page](http://xarray.pydata.org/en/stable/dask.html) to understand what chinks are for."
   ]
  },
  {
   "cell_type": "code",
   "execution_count": 7,
   "metadata": {},
   "outputs": [],
   "source": [
    "data = xr.open_mfdataset('/work/ab0995/a270067/fesom_echam/core/cpl_output_02/fesom.200?.oce.mean.nc',\n",
    "                         chunks={'time': 12})"
   ]
  },
  {
   "cell_type": "markdown",
   "metadata": {},
   "source": [
    "Now you have a Dataset that have all the data in. "
   ]
  },
  {
   "cell_type": "code",
   "execution_count": 11,
   "metadata": {},
   "outputs": [
    {
     "data": {
      "text/plain": [
       "<xarray.Dataset>\n",
       "Dimensions:  (nodes_2d: 126859, nodes_3d: 3668773, time: 120)\n",
       "Coordinates:\n",
       "  * time     (time) datetime64[ns] 2000-02-01 2000-03-01 2000-04-01 ...\n",
       "Dimensions without coordinates: nodes_2d, nodes_3d\n",
       "Data variables:\n",
       "    iter     (time) int32 dask.array<shape=(120,), chunksize=(12,)>\n",
       "    ssh      (time, nodes_2d) float32 dask.array<shape=(120, 126859), chunksize=(12, 126859)>\n",
       "    u        (time, nodes_3d) float32 dask.array<shape=(120, 3668773), chunksize=(12, 3668773)>\n",
       "    v        (time, nodes_3d) float32 dask.array<shape=(120, 3668773), chunksize=(12, 3668773)>\n",
       "    w        (time, nodes_3d) float32 dask.array<shape=(120, 3668773), chunksize=(12, 3668773)>\n",
       "    temp     (time, nodes_3d) float32 dask.array<shape=(120, 3668773), chunksize=(12, 3668773)>\n",
       "    salt     (time, nodes_3d) float32 dask.array<shape=(120, 3668773), chunksize=(12, 3668773)>"
      ]
     },
     "execution_count": 11,
     "metadata": {},
     "output_type": "execute_result"
    }
   ],
   "source": [
    "data"
   ]
  },
  {
   "cell_type": "markdown",
   "metadata": {},
   "source": [
    "You can see that in this version of fesom output there is a bug with shifter time stemps (times starts from '2000-02-01'). We are giong to fix it. Create time stamps with pandas:"
   ]
  },
  {
   "cell_type": "code",
   "execution_count": 13,
   "metadata": {},
   "outputs": [
    {
     "data": {
      "text/plain": [
       "DatetimeIndex(['2000-01-31', '2000-02-29', '2000-03-31', '2000-04-30',\n",
       "               '2000-05-31', '2000-06-30', '2000-07-31', '2000-08-31',\n",
       "               '2000-09-30', '2000-10-31',\n",
       "               ...\n",
       "               '2009-03-31', '2009-04-30', '2009-05-31', '2009-06-30',\n",
       "               '2009-07-31', '2009-08-31', '2009-09-30', '2009-10-31',\n",
       "               '2009-11-30', '2009-12-31'],\n",
       "              dtype='datetime64[ns]', length=120, freq='M')"
      ]
     },
     "execution_count": 13,
     "metadata": {},
     "output_type": "execute_result"
    }
   ],
   "source": [
    "dates = pd.date_range('2000','2010', freq='M', )\n",
    "dates"
   ]
  },
  {
   "cell_type": "markdown",
   "metadata": {},
   "source": [
    "Note, that you have to put one year more in this case since the right boundary is not included. Now replace time stamps in the data by the right ones:"
   ]
  },
  {
   "cell_type": "code",
   "execution_count": 14,
   "metadata": {},
   "outputs": [],
   "source": [
    "data.time.data = dates"
   ]
  },
  {
   "cell_type": "code",
   "execution_count": 15,
   "metadata": {},
   "outputs": [
    {
     "data": {
      "text/plain": [
       "<xarray.Dataset>\n",
       "Dimensions:  (nodes_2d: 126859, nodes_3d: 3668773, time: 120)\n",
       "Coordinates:\n",
       "  * time     (time) datetime64[ns] 2000-01-31 2000-02-29 2000-03-31 ...\n",
       "Dimensions without coordinates: nodes_2d, nodes_3d\n",
       "Data variables:\n",
       "    iter     (time) int32 dask.array<shape=(120,), chunksize=(12,)>\n",
       "    ssh      (time, nodes_2d) float32 dask.array<shape=(120, 126859), chunksize=(12, 126859)>\n",
       "    u        (time, nodes_3d) float32 dask.array<shape=(120, 3668773), chunksize=(12, 3668773)>\n",
       "    v        (time, nodes_3d) float32 dask.array<shape=(120, 3668773), chunksize=(12, 3668773)>\n",
       "    w        (time, nodes_3d) float32 dask.array<shape=(120, 3668773), chunksize=(12, 3668773)>\n",
       "    temp     (time, nodes_3d) float32 dask.array<shape=(120, 3668773), chunksize=(12, 3668773)>\n",
       "    salt     (time, nodes_3d) float32 dask.array<shape=(120, 3668773), chunksize=(12, 3668773)>"
      ]
     },
     "execution_count": 15,
     "metadata": {},
     "output_type": "execute_result"
    }
   ],
   "source": [
    "data"
   ]
  },
  {
   "cell_type": "markdown",
   "metadata": {},
   "source": [
    "Good, we now have right time stamps and can work with time. "
   ]
  },
  {
   "cell_type": "markdown",
   "metadata": {},
   "source": [
    "## Time mean"
   ]
  },
  {
   "cell_type": "markdown",
   "metadata": {},
   "source": [
    "The time mean over the whole time period is simple:"
   ]
  },
  {
   "cell_type": "code",
   "execution_count": 16,
   "metadata": {},
   "outputs": [],
   "source": [
    "temp_mean = data.temp.mean(dim='time')"
   ]
  },
  {
   "cell_type": "markdown",
   "metadata": {},
   "source": [
    "Here we select `temp` variable and apply mean to it. You also have to specify the dimention (`dim`) that you want to make a mean over. You probably noticed that \"computation\" was performed very quickly. This is because there were now computation at all, just preparation for it. To actually do computation do:"
   ]
  },
  {
   "cell_type": "code",
   "execution_count": 17,
   "metadata": {},
   "outputs": [],
   "source": [
    "temp_mean = temp_mean.compute()"
   ]
  },
  {
   "cell_type": "code",
   "execution_count": 18,
   "metadata": {},
   "outputs": [
    {
     "data": {
      "text/plain": [
       "<xarray.DataArray 'temp' (nodes_3d: 3668773)>\n",
       "array([-1.484545, -0.529427, -1.610458, ...,  0.578853,  0.434934,  0.435094],\n",
       "      dtype=float32)\n",
       "Dimensions without coordinates: nodes_3d"
      ]
     },
     "execution_count": 18,
     "metadata": {},
     "output_type": "execute_result"
    }
   ],
   "source": [
    "temp_mean"
   ]
  },
  {
   "cell_type": "markdown",
   "metadata": {},
   "source": [
    "## Mean over time slice"
   ]
  },
  {
   "cell_type": "markdown",
   "metadata": {},
   "source": [
    "One can use slices to select data over some time period:"
   ]
  },
  {
   "cell_type": "code",
   "execution_count": 21,
   "metadata": {},
   "outputs": [
    {
     "data": {
      "text/plain": [
       "<xarray.DataArray 'time' (time: 48)>\n",
       "array(['2000-01-31T00:00:00.000000000', '2000-02-29T00:00:00.000000000',\n",
       "       '2000-03-31T00:00:00.000000000', '2000-04-30T00:00:00.000000000',\n",
       "       '2000-05-31T00:00:00.000000000', '2000-06-30T00:00:00.000000000',\n",
       "       '2000-07-31T00:00:00.000000000', '2000-08-31T00:00:00.000000000',\n",
       "       '2000-09-30T00:00:00.000000000', '2000-10-31T00:00:00.000000000',\n",
       "       '2000-11-30T00:00:00.000000000', '2000-12-31T00:00:00.000000000',\n",
       "       '2001-01-31T00:00:00.000000000', '2001-02-28T00:00:00.000000000',\n",
       "       '2001-03-31T00:00:00.000000000', '2001-04-30T00:00:00.000000000',\n",
       "       '2001-05-31T00:00:00.000000000', '2001-06-30T00:00:00.000000000',\n",
       "       '2001-07-31T00:00:00.000000000', '2001-08-31T00:00:00.000000000',\n",
       "       '2001-09-30T00:00:00.000000000', '2001-10-31T00:00:00.000000000',\n",
       "       '2001-11-30T00:00:00.000000000', '2001-12-31T00:00:00.000000000',\n",
       "       '2002-01-31T00:00:00.000000000', '2002-02-28T00:00:00.000000000',\n",
       "       '2002-03-31T00:00:00.000000000', '2002-04-30T00:00:00.000000000',\n",
       "       '2002-05-31T00:00:00.000000000', '2002-06-30T00:00:00.000000000',\n",
       "       '2002-07-31T00:00:00.000000000', '2002-08-31T00:00:00.000000000',\n",
       "       '2002-09-30T00:00:00.000000000', '2002-10-31T00:00:00.000000000',\n",
       "       '2002-11-30T00:00:00.000000000', '2002-12-31T00:00:00.000000000',\n",
       "       '2003-01-31T00:00:00.000000000', '2003-02-28T00:00:00.000000000',\n",
       "       '2003-03-31T00:00:00.000000000', '2003-04-30T00:00:00.000000000',\n",
       "       '2003-05-31T00:00:00.000000000', '2003-06-30T00:00:00.000000000',\n",
       "       '2003-07-31T00:00:00.000000000', '2003-08-31T00:00:00.000000000',\n",
       "       '2003-09-30T00:00:00.000000000', '2003-10-31T00:00:00.000000000',\n",
       "       '2003-11-30T00:00:00.000000000', '2003-12-31T00:00:00.000000000'],\n",
       "      dtype='datetime64[ns]')\n",
       "Coordinates:\n",
       "  * time     (time) datetime64[ns] 2000-01-31 2000-02-29 2000-03-31 ...\n",
       "Attributes:\n",
       "    long_name:  time"
      ]
     },
     "execution_count": 21,
     "metadata": {},
     "output_type": "execute_result"
    }
   ],
   "source": [
    "data.temp.sel(time=slice('2000-01-01', '2003-12-31')).time"
   ]
  },
  {
   "cell_type": "markdown",
   "metadata": {},
   "source": [
    "Mean over this slice will look like this:"
   ]
  },
  {
   "cell_type": "code",
   "execution_count": 22,
   "metadata": {},
   "outputs": [],
   "source": [
    "temp_mean_3years = data.temp.sel(time=slice('2000-01-01', '2003-12-31')).mean(dim='time')\n",
    "temp_mean_3years = temp_mean_3years.compute()"
   ]
  },
  {
   "cell_type": "markdown",
   "metadata": {},
   "source": [
    "## Mean over specific month"
   ]
  },
  {
   "cell_type": "markdown",
   "metadata": {},
   "source": [
    "!!! [PLESE READ THIS TO GET MORE INFORMATION](http://xarray.pydata.org/en/stable/time-series.html) !!!"
   ]
  },
  {
   "cell_type": "markdown",
   "metadata": {},
   "source": [
    "Our data are monthly:"
   ]
  },
  {
   "cell_type": "code",
   "execution_count": 26,
   "metadata": {},
   "outputs": [
    {
     "data": {
      "text/plain": [
       "<xarray.DataArray 'time' (time: 14)>\n",
       "array(['2000-01-31T00:00:00.000000000', '2000-02-29T00:00:00.000000000',\n",
       "       '2000-03-31T00:00:00.000000000', '2000-04-30T00:00:00.000000000',\n",
       "       '2000-05-31T00:00:00.000000000', '2000-06-30T00:00:00.000000000',\n",
       "       '2000-07-31T00:00:00.000000000', '2000-08-31T00:00:00.000000000',\n",
       "       '2000-09-30T00:00:00.000000000', '2000-10-31T00:00:00.000000000',\n",
       "       '2000-11-30T00:00:00.000000000', '2000-12-31T00:00:00.000000000',\n",
       "       '2001-01-31T00:00:00.000000000', '2001-02-28T00:00:00.000000000'],\n",
       "      dtype='datetime64[ns]')\n",
       "Coordinates:\n",
       "  * time     (time) datetime64[ns] 2000-01-31 2000-02-29 2000-03-31 ...\n",
       "Attributes:\n",
       "    long_name:  time"
      ]
     },
     "execution_count": 26,
     "metadata": {},
     "output_type": "execute_result"
    }
   ],
   "source": [
    "data.time[:14]"
   ]
  },
  {
   "cell_type": "markdown",
   "metadata": {},
   "source": [
    "The `sel` allows to provide explicit time steps, so if we just select only March values:"
   ]
  },
  {
   "cell_type": "code",
   "execution_count": 27,
   "metadata": {},
   "outputs": [
    {
     "data": {
      "text/plain": [
       "<xarray.DataArray 'time' (time: 10)>\n",
       "array(['2000-03-31T00:00:00.000000000', '2001-03-31T00:00:00.000000000',\n",
       "       '2002-03-31T00:00:00.000000000', '2003-03-31T00:00:00.000000000',\n",
       "       '2004-03-31T00:00:00.000000000', '2005-03-31T00:00:00.000000000',\n",
       "       '2006-03-31T00:00:00.000000000', '2007-03-31T00:00:00.000000000',\n",
       "       '2008-03-31T00:00:00.000000000', '2009-03-31T00:00:00.000000000'],\n",
       "      dtype='datetime64[ns]')\n",
       "Coordinates:\n",
       "  * time     (time) datetime64[ns] 2000-03-31 2001-03-31 2002-03-31 ...\n",
       "Attributes:\n",
       "    long_name:  time"
      ]
     },
     "execution_count": 27,
     "metadata": {},
     "output_type": "execute_result"
    }
   ],
   "source": [
    "data.time[2::12]"
   ]
  },
  {
   "cell_type": "markdown",
   "metadata": {},
   "source": [
    "we can provide this values directly to `sel`. We also make a mean over the selected time and do the computation:"
   ]
  },
  {
   "cell_type": "code",
   "execution_count": 29,
   "metadata": {},
   "outputs": [],
   "source": [
    "temp_march_mean = data.temp.sel(time=data.time[2::12]).mean(dim='time')\n",
    "temp_march_mean = temp_march_mean.compute()"
   ]
  },
  {
   "cell_type": "markdown",
   "metadata": {},
   "source": [
    "The `xarray` have more explicit syntax to select months (returns array that show which record in your array corespond to each month):"
   ]
  },
  {
   "cell_type": "code",
   "execution_count": 30,
   "metadata": {},
   "outputs": [
    {
     "data": {
      "text/plain": [
       "<xarray.DataArray 'month' (time: 120)>\n",
       "array([ 1,  2,  3,  4,  5,  6,  7,  8,  9, 10, 11, 12,  1,  2,  3,  4,  5,  6,\n",
       "        7,  8,  9, 10, 11, 12,  1,  2,  3,  4,  5,  6,  7,  8,  9, 10, 11, 12,\n",
       "        1,  2,  3,  4,  5,  6,  7,  8,  9, 10, 11, 12,  1,  2,  3,  4,  5,  6,\n",
       "        7,  8,  9, 10, 11, 12,  1,  2,  3,  4,  5,  6,  7,  8,  9, 10, 11, 12,\n",
       "        1,  2,  3,  4,  5,  6,  7,  8,  9, 10, 11, 12,  1,  2,  3,  4,  5,  6,\n",
       "        7,  8,  9, 10, 11, 12,  1,  2,  3,  4,  5,  6,  7,  8,  9, 10, 11, 12,\n",
       "        1,  2,  3,  4,  5,  6,  7,  8,  9, 10, 11, 12])\n",
       "Coordinates:\n",
       "  * time     (time) datetime64[ns] 2000-01-31 2000-02-29 2000-03-31 ..."
      ]
     },
     "execution_count": 30,
     "metadata": {},
     "output_type": "execute_result"
    }
   ],
   "source": [
    "data['time.month']"
   ]
  },
  {
   "cell_type": "markdown",
   "metadata": {},
   "source": [
    "Using this sysntax you can easily select March:"
   ]
  },
  {
   "cell_type": "code",
   "execution_count": 32,
   "metadata": {},
   "outputs": [
    {
     "data": {
      "text/plain": [
       "<xarray.DataArray 'temp' (time: 10, nodes_3d: 3668773)>\n",
       "dask.array<shape=(10, 3668773), dtype=float32, chunksize=(1, 3668773)>\n",
       "Coordinates:\n",
       "  * time     (time) datetime64[ns] 2000-03-31 2001-03-31 2002-03-31 ...\n",
       "Dimensions without coordinates: nodes_3d\n",
       "Attributes:\n",
       "    description:  mean potential temperature\n",
       "    units:        degC"
      ]
     },
     "execution_count": 32,
     "metadata": {},
     "output_type": "execute_result"
    }
   ],
   "source": [
    "data.temp[data['time.month']==3]"
   ]
  },
  {
   "cell_type": "markdown",
   "metadata": {},
   "source": [
    "And make a mean over this month:"
   ]
  },
  {
   "cell_type": "code",
   "execution_count": 33,
   "metadata": {},
   "outputs": [],
   "source": [
    "temp_march_mean = data.temp[data['time.month']==3].mean(dim='time')\n",
    "temp_march_mean = temp_march_mean.compute()"
   ]
  },
  {
   "cell_type": "markdown",
   "metadata": {},
   "source": [
    "Please have a look at [this page](http://xarray.pydata.org/en/stable/time-series.html) to see what \"datetime components\" are supported. At the time of this writing the list contains:  “year”, “month”, “day”, “hour”, “minute”, “second”, “dayofyear”, “week”, “dayofweek”, “weekday” and “quarter”. Additional `xarray` component is season. You can select winter temperature values and average over them by:"
   ]
  },
  {
   "cell_type": "code",
   "execution_count": 35,
   "metadata": {},
   "outputs": [],
   "source": [
    "temp_DJF_mean = data.temp[data['time.season']=='DJF'].mean(dim='time')\n",
    "temp_DJF_mean = temp_DJF_mean.compute()"
   ]
  },
  {
   "cell_type": "markdown",
   "metadata": {},
   "source": [
    "## Resampling"
   ]
  },
  {
   "cell_type": "markdown",
   "metadata": {},
   "source": [
    "Once again, please read [this page](http://xarray.pydata.org/en/stable/time-series.html) to get more information. If we would like to resample our data, making yearly means, the way to do it is:"
   ]
  },
  {
   "cell_type": "code",
   "execution_count": 40,
   "metadata": {},
   "outputs": [],
   "source": [
    "yearly_data = data.resample(time='1A').mean(dim='time')"
   ]
  },
  {
   "cell_type": "code",
   "execution_count": 37,
   "metadata": {},
   "outputs": [
    {
     "data": {
      "text/plain": [
       "<xarray.Dataset>\n",
       "Dimensions:  (nodes_2d: 126859, nodes_3d: 3668773, time: 10)\n",
       "Coordinates:\n",
       "  * time     (time) datetime64[ns] 2000-12-31 2001-12-31 2002-12-31 ...\n",
       "Dimensions without coordinates: nodes_2d, nodes_3d\n",
       "Data variables:\n",
       "    iter     (time) float64 dask.array<shape=(10,), chunksize=(1,)>\n",
       "    ssh      (time, nodes_2d) float32 dask.array<shape=(10, 126859), chunksize=(1, 126859)>\n",
       "    u        (time, nodes_3d) float32 dask.array<shape=(10, 3668773), chunksize=(1, 3668773)>\n",
       "    v        (time, nodes_3d) float32 dask.array<shape=(10, 3668773), chunksize=(1, 3668773)>\n",
       "    w        (time, nodes_3d) float32 dask.array<shape=(10, 3668773), chunksize=(1, 3668773)>\n",
       "    temp     (time, nodes_3d) float32 dask.array<shape=(10, 3668773), chunksize=(1, 3668773)>\n",
       "    salt     (time, nodes_3d) float32 dask.array<shape=(10, 3668773), chunksize=(1, 3668773)>"
      ]
     },
     "execution_count": 37,
     "metadata": {},
     "output_type": "execute_result"
    }
   ],
   "source": [
    "yearly_data"
   ]
  },
  {
   "cell_type": "code",
   "execution_count": 38,
   "metadata": {},
   "outputs": [],
   "source": [
    "yearly_data = yearly_data.compute()"
   ]
  },
  {
   "cell_type": "markdown",
   "metadata": {},
   "source": [
    "Complete list of frequencies can be found [here](http://pandas.pydata.org/pandas-docs/stable/timeseries.html#offset-aliases). Most important for us are:\n",
    "\n",
    "    A - year\n",
    "    M - month\n",
    "    D - day\n",
    "    H - hour"
   ]
  },
  {
   "cell_type": "code",
   "execution_count": null,
   "metadata": {},
   "outputs": [],
   "source": []
  }
 ],
 "metadata": {
  "kernelspec": {
   "display_name": "Python 3",
   "language": "python",
   "name": "python3"
  },
  "language_info": {
   "codemirror_mode": {
    "name": "ipython",
    "version": 3
   },
   "file_extension": ".py",
   "mimetype": "text/x-python",
   "name": "python",
   "nbconvert_exporter": "python",
   "pygments_lexer": "ipython3",
   "version": "3.5.4"
  }
 },
 "nbformat": 4,
 "nbformat_minor": 2
}
